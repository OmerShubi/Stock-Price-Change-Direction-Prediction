{
 "cells": [
  {
   "metadata": {
    "_uuid": "d629ff2d2480ee46fbb7e2d37f6b5fab8052498a",
    "_cell_guid": "79c7e3d0-c299-4dcb-8224-4455121ee9b0",
    "trusted": true
   },
   "cell_type": "code",
   "source": [
    "import numpy as np\n",
    "import pandas as pd\n",
    "import os"
   ],
   "execution_count": 12,
   "outputs": []
  },
  {
   "metadata": {},
   "cell_type": "markdown",
   "source": [
    "## Load & PreProcessing Data"
   ]
  },
  {
   "metadata": {
    "trusted": true
   },
   "cell_type": "code",
   "source": [
    "def pre_process(df):\n",
    "    # check OpenInt values\n",
    "    if df[df.OpenInt > 0].empty: print(\"all OpenInt values are zero\")\n",
    "    # remove OpenInt column\n",
    "    df.drop(\"OpenInt\",axis=1, inplace=True)\n",
    "    # remove High, low columns\n",
    "    df.drop([\"High\",'Low'],axis=1, inplace=True)\n",
    "    # add direction column : 1 if Close price >= Open price else 0\n",
    "    df.loc[df.Close >= df.Open, 'direction'] = 1\n",
    "    df.loc[df.Close < df.Open, 'direction'] = 0"
   ],
   "execution_count": 13,
   "outputs": []
  },
  {
   "metadata": {},
   "cell_type": "markdown",
   "source": [
    "# part 1"
   ]
  },
  {
   "metadata": {
    "trusted": true
   },
   "cell_type": "code",
   "source": [
    "# choose stock to work with\n",
    "# maximum = -1*float(\"inf\")\n",
    "# filename_max = ''\n",
    "# dirname_max = ''\n",
    "# for dirname, _, filenames in os.walk('/kaggle/input'):\n",
    "#     for index, filename in enumerate(filenames):\n",
    "#         try:\n",
    "#             curr_df = pd.read_csv(os.path.join(dirname, filename))\n",
    "#             curr_len = len(curr_df.index)\n",
    "#             if curr_len > maximum:\n",
    "#                 maximum, filename_max, dirname_max = curr_len, filename, dirname\n",
    "#         except Exception as e:\n",
    "#             print(e)"
   ],
   "execution_count": 14,
   "outputs": []
  },
  {
   "metadata": {
    "trusted": true
   },
   "cell_type": "code",
   "source": [
    "# print(maximum, filename_max, dirname)"
   ],
   "execution_count": 15,
   "outputs": []
  },
  {
   "metadata": {
    "trusted": true
   },
   "cell_type": "code",
   "source": [
    "df = pd.read_csv('ibm.us.txt', parse_dates=['Date'], index_col=['index'])\n",
    "df"
   ],
   "execution_count": 16,
   "outputs": [
    {
     "data": {
      "text/plain": "            Date      Open      High       Low     Close   Volume  OpenInt\nindex                                                                     \n0     1962-01-02    6.4130    6.4130    6.3378    6.3378   467056        0\n1     1962-01-03    6.3378    6.3963    6.3378    6.3963   350294        0\n2     1962-01-04    6.3963    6.3963    6.3295    6.3295   314365        0\n3     1962-01-05    6.3211    6.3211    6.1958    6.2041   440112        0\n4     1962-01-08    6.2041    6.2041    6.0373    6.0870   655676        0\n...          ...       ...       ...       ...       ...      ...      ...\n14054 2017-11-06  150.2700  150.3200  148.7900  149.3500  4543499        0\n14055 2017-11-07  149.8700  150.0100  149.0100  149.8500  3729501        0\n14056 2017-11-08  150.1000  150.2800  148.7900  150.0700  4679520        0\n14057 2017-11-09  149.9300  151.8000  149.8600  150.3000  4776388        0\n14058 2017-11-10  150.6500  150.8900  149.1400  149.1600  4306433        0\n\n[14059 rows x 7 columns]",
      "text/html": "<div>\n<style scoped>\n    .dataframe tbody tr th:only-of-type {\n        vertical-align: middle;\n    }\n\n    .dataframe tbody tr th {\n        vertical-align: top;\n    }\n\n    .dataframe thead th {\n        text-align: right;\n    }\n</style>\n<table border=\"1\" class=\"dataframe\">\n  <thead>\n    <tr style=\"text-align: right;\">\n      <th></th>\n      <th>Date</th>\n      <th>Open</th>\n      <th>High</th>\n      <th>Low</th>\n      <th>Close</th>\n      <th>Volume</th>\n      <th>OpenInt</th>\n    </tr>\n    <tr>\n      <th>index</th>\n      <th></th>\n      <th></th>\n      <th></th>\n      <th></th>\n      <th></th>\n      <th></th>\n      <th></th>\n    </tr>\n  </thead>\n  <tbody>\n    <tr>\n      <th>0</th>\n      <td>1962-01-02</td>\n      <td>6.4130</td>\n      <td>6.4130</td>\n      <td>6.3378</td>\n      <td>6.3378</td>\n      <td>467056</td>\n      <td>0</td>\n    </tr>\n    <tr>\n      <th>1</th>\n      <td>1962-01-03</td>\n      <td>6.3378</td>\n      <td>6.3963</td>\n      <td>6.3378</td>\n      <td>6.3963</td>\n      <td>350294</td>\n      <td>0</td>\n    </tr>\n    <tr>\n      <th>2</th>\n      <td>1962-01-04</td>\n      <td>6.3963</td>\n      <td>6.3963</td>\n      <td>6.3295</td>\n      <td>6.3295</td>\n      <td>314365</td>\n      <td>0</td>\n    </tr>\n    <tr>\n      <th>3</th>\n      <td>1962-01-05</td>\n      <td>6.3211</td>\n      <td>6.3211</td>\n      <td>6.1958</td>\n      <td>6.2041</td>\n      <td>440112</td>\n      <td>0</td>\n    </tr>\n    <tr>\n      <th>4</th>\n      <td>1962-01-08</td>\n      <td>6.2041</td>\n      <td>6.2041</td>\n      <td>6.0373</td>\n      <td>6.0870</td>\n      <td>655676</td>\n      <td>0</td>\n    </tr>\n    <tr>\n      <th>...</th>\n      <td>...</td>\n      <td>...</td>\n      <td>...</td>\n      <td>...</td>\n      <td>...</td>\n      <td>...</td>\n      <td>...</td>\n    </tr>\n    <tr>\n      <th>14054</th>\n      <td>2017-11-06</td>\n      <td>150.2700</td>\n      <td>150.3200</td>\n      <td>148.7900</td>\n      <td>149.3500</td>\n      <td>4543499</td>\n      <td>0</td>\n    </tr>\n    <tr>\n      <th>14055</th>\n      <td>2017-11-07</td>\n      <td>149.8700</td>\n      <td>150.0100</td>\n      <td>149.0100</td>\n      <td>149.8500</td>\n      <td>3729501</td>\n      <td>0</td>\n    </tr>\n    <tr>\n      <th>14056</th>\n      <td>2017-11-08</td>\n      <td>150.1000</td>\n      <td>150.2800</td>\n      <td>148.7900</td>\n      <td>150.0700</td>\n      <td>4679520</td>\n      <td>0</td>\n    </tr>\n    <tr>\n      <th>14057</th>\n      <td>2017-11-09</td>\n      <td>149.9300</td>\n      <td>151.8000</td>\n      <td>149.8600</td>\n      <td>150.3000</td>\n      <td>4776388</td>\n      <td>0</td>\n    </tr>\n    <tr>\n      <th>14058</th>\n      <td>2017-11-10</td>\n      <td>150.6500</td>\n      <td>150.8900</td>\n      <td>149.1400</td>\n      <td>149.1600</td>\n      <td>4306433</td>\n      <td>0</td>\n    </tr>\n  </tbody>\n</table>\n<p>14059 rows × 7 columns</p>\n</div>"
     },
     "execution_count": 16,
     "metadata": {},
     "output_type": "execute_result"
    }
   ]
  },
  {
   "metadata": {
    "trusted": true
   },
   "cell_type": "code",
   "source": "pre_process(df)\n# remove High, low columns\ndf.drop([\"Close\"],axis=1, inplace=True)",
   "execution_count": 17,
   "outputs": [
    {
     "name": "stdout",
     "output_type": "stream",
     "text": [
      "all OpenInt values are zero\n"
     ]
    }
   ]
  },
  {
   "metadata": {
    "trusted": true
   },
   "cell_type": "code",
   "source": "df",
   "execution_count": 18,
   "outputs": [
    {
     "data": {
      "text/plain": "            Date      Open   Volume  direction\nindex                                         \n0     1962-01-02    6.4130   467056        0.0\n1     1962-01-03    6.3378   350294        1.0\n2     1962-01-04    6.3963   314365        0.0\n3     1962-01-05    6.3211   440112        0.0\n4     1962-01-08    6.2041   655676        0.0\n...          ...       ...      ...        ...\n14054 2017-11-06  150.2700  4543499        0.0\n14055 2017-11-07  149.8700  3729501        0.0\n14056 2017-11-08  150.1000  4679520        0.0\n14057 2017-11-09  149.9300  4776388        1.0\n14058 2017-11-10  150.6500  4306433        0.0\n\n[14059 rows x 4 columns]",
      "text/html": "<div>\n<style scoped>\n    .dataframe tbody tr th:only-of-type {\n        vertical-align: middle;\n    }\n\n    .dataframe tbody tr th {\n        vertical-align: top;\n    }\n\n    .dataframe thead th {\n        text-align: right;\n    }\n</style>\n<table border=\"1\" class=\"dataframe\">\n  <thead>\n    <tr style=\"text-align: right;\">\n      <th></th>\n      <th>Date</th>\n      <th>Open</th>\n      <th>Volume</th>\n      <th>direction</th>\n    </tr>\n    <tr>\n      <th>index</th>\n      <th></th>\n      <th></th>\n      <th></th>\n      <th></th>\n    </tr>\n  </thead>\n  <tbody>\n    <tr>\n      <th>0</th>\n      <td>1962-01-02</td>\n      <td>6.4130</td>\n      <td>467056</td>\n      <td>0.0</td>\n    </tr>\n    <tr>\n      <th>1</th>\n      <td>1962-01-03</td>\n      <td>6.3378</td>\n      <td>350294</td>\n      <td>1.0</td>\n    </tr>\n    <tr>\n      <th>2</th>\n      <td>1962-01-04</td>\n      <td>6.3963</td>\n      <td>314365</td>\n      <td>0.0</td>\n    </tr>\n    <tr>\n      <th>3</th>\n      <td>1962-01-05</td>\n      <td>6.3211</td>\n      <td>440112</td>\n      <td>0.0</td>\n    </tr>\n    <tr>\n      <th>4</th>\n      <td>1962-01-08</td>\n      <td>6.2041</td>\n      <td>655676</td>\n      <td>0.0</td>\n    </tr>\n    <tr>\n      <th>...</th>\n      <td>...</td>\n      <td>...</td>\n      <td>...</td>\n      <td>...</td>\n    </tr>\n    <tr>\n      <th>14054</th>\n      <td>2017-11-06</td>\n      <td>150.2700</td>\n      <td>4543499</td>\n      <td>0.0</td>\n    </tr>\n    <tr>\n      <th>14055</th>\n      <td>2017-11-07</td>\n      <td>149.8700</td>\n      <td>3729501</td>\n      <td>0.0</td>\n    </tr>\n    <tr>\n      <th>14056</th>\n      <td>2017-11-08</td>\n      <td>150.1000</td>\n      <td>4679520</td>\n      <td>0.0</td>\n    </tr>\n    <tr>\n      <th>14057</th>\n      <td>2017-11-09</td>\n      <td>149.9300</td>\n      <td>4776388</td>\n      <td>1.0</td>\n    </tr>\n    <tr>\n      <th>14058</th>\n      <td>2017-11-10</td>\n      <td>150.6500</td>\n      <td>4306433</td>\n      <td>0.0</td>\n    </tr>\n  </tbody>\n</table>\n<p>14059 rows × 4 columns</p>\n</div>"
     },
     "execution_count": 18,
     "metadata": {},
     "output_type": "execute_result"
    }
   ]
  },
  {
   "metadata": {
    "trusted": true
   },
   "cell_type": "code",
   "source": "# check days range data\nprint(f'Data from day {min(df.Date)} to day {max(df.Date)}')",
   "execution_count": 19,
   "outputs": [
    {
     "name": "stdout",
     "output_type": "stream",
     "text": [
      "Data from day 1962-01-02 00:00:00 to day 2017-11-10 00:00:00\n"
     ]
    }
   ]
  },
  {
   "metadata": {
    "trusted": true
   },
   "cell_type": "code",
   "source": "df['weekDay'] = df.Date.dt.weekday",
   "execution_count": 20,
   "outputs": []
  },
  {
   "metadata": {
    "trusted": true
   },
   "cell_type": "code",
   "source": "week = set()\nweek_index = 0\nfor index,row in df.iterrows():\n    if row.weekDay not in week and all([x < row.weekDay for x in week]):\n        week.add(row.weekDay)\n        df.at[index, 'weekNum'] = week_index\n    else:\n        week_index = week_index + 1\n        week = set()\n        week.add(row.weekDay)\n        df.at[index, 'weekNum'] = week_index",
   "execution_count": 21,
   "outputs": []
  },
  {
   "metadata": {
    "trusted": true
   },
   "cell_type": "code",
   "source": "for index in range(int(max(df.weekNum))+1):\n    week_days = df[df.weekNum == index] \n    if len(week_days) != 5:\n        df.drop(df[df.weekNum == index].index, inplace=True)",
   "execution_count": 22,
   "outputs": []
  },
  {
   "metadata": {
    "trusted": true
   },
   "cell_type": "code",
   "source": "df.reset_index(inplace=True, drop=True)",
   "execution_count": 23,
   "outputs": []
  },
  {
   "metadata": {
    "trusted": true
   },
   "cell_type": "code",
   "source": "week_days_index = 0\nfor index,row in df.iterrows():\n    df.at[index, 'weekNum'] = week_days_index\n    if (index+1) % 5 == 0:# and index != 0:\n        week_days_index += 1",
   "execution_count": 24,
   "outputs": []
  },
  {
   "metadata": {
    "trusted": true
   },
   "cell_type": "code",
   "source": "df.drop([\"Date\"],axis=1, inplace=True)",
   "execution_count": 25,
   "outputs": []
  },
  {
   "metadata": {
    "trusted": true
   },
   "cell_type": "code",
   "source": "num_of_weeks = max(df.weekNum)",
   "execution_count": 26,
   "outputs": []
  },
  {
   "metadata": {
    "trusted": true
   },
   "cell_type": "code",
   "source": "df['Open'] = df.groupby('weekNum')['Open'].apply(list)\ndf['Volume'] = df.groupby('weekNum')['Volume'].apply(list)\ndf['direction'] = df.groupby('weekNum')['direction'].apply(list)",
   "execution_count": 27,
   "outputs": []
  },
  {
   "metadata": {
    "trusted": true
   },
   "cell_type": "code",
   "source": "df.drop([\"weekDay\", 'weekNum'],axis=1, inplace=True)\ndf.reset_index(inplace=True, drop=True)\ndf = df.head(int(num_of_weeks))",
   "execution_count": 28,
   "outputs": []
  },
  {
   "metadata": {
    "trusted": true
   },
   "cell_type": "code",
   "source": "df",
   "execution_count": 29,
   "outputs": [
    {
     "data": {
      "text/plain": "                                          Open  \\\n0     [6.2041, 6.1208, 6.1707, 6.1875, 6.2543]   \n1     [6.2708, 6.2708, 6.1875, 6.1291, 6.1291]   \n2     [6.1374, 6.1208, 6.0624, 6.0956, 6.0287]   \n3     [5.9951, 5.8952, 5.8784, 6.0703, 6.1457]   \n4      [6.1875, 6.104, 6.1208, 6.1208, 6.1208]   \n...                                        ...   \n2403  [143.91, 145.24, 145.55, 145.23, 145.19]   \n2404   [145.05, 146.25, 146.93, 146.1, 146.02]   \n2405  [145.76, 145.18, 155.57, 158.22, 159.48]   \n2406  [160.45, 158.12, 154.47, 152.78, 153.01]   \n2407    [152.24, 152.8, 152.57, 152.65, 151.9]   \n\n                                               Volume  \\\n0            [655676, 592806, 359274, 386220, 529933]   \n1            [305383, 305383, 502984, 449093, 485021]   \n2            [332329, 449093, 494001, 386220, 296401]   \n3            [700585, 889207, 916151, 772443, 610767]   \n4             [377238, 314365, 305383, 26945, 520952]   \n...                                               ...   \n2403    [3002790, 2325614, 2265636, 2713337, 2647099]   \n2404    [2709319, 4069894, 3738253, 3337684, 2530990]   \n2405  [3072486, 6266166, 30778036, 10009756, 7945358]   \n2406    [5835986, 8257417, 6987016, 4341600, 4944066]   \n2407    [4252385, 4370601, 3270654, 3431080, 4475615]   \n\n                      direction  \n0     [0.0, 1.0, 1.0, 1.0, 1.0]  \n1     [1.0, 0.0, 0.0, 1.0, 1.0]  \n2     [0.0, 0.0, 1.0, 0.0, 0.0]  \n3     [0.0, 0.0, 1.0, 1.0, 1.0]  \n4     [0.0, 1.0, 1.0, 1.0, 1.0]  \n...                         ...  \n2403  [1.0, 1.0, 0.0, 1.0, 0.0]  \n2404  [1.0, 1.0, 0.0, 0.0, 0.0]  \n2405  [0.0, 0.0, 1.0, 1.0, 1.0]  \n2406  [0.0, 0.0, 0.0, 0.0, 0.0]  \n2407  [1.0, 0.0, 0.0, 0.0, 0.0]  \n\n[2408 rows x 3 columns]",
      "text/html": "<div>\n<style scoped>\n    .dataframe tbody tr th:only-of-type {\n        vertical-align: middle;\n    }\n\n    .dataframe tbody tr th {\n        vertical-align: top;\n    }\n\n    .dataframe thead th {\n        text-align: right;\n    }\n</style>\n<table border=\"1\" class=\"dataframe\">\n  <thead>\n    <tr style=\"text-align: right;\">\n      <th></th>\n      <th>Open</th>\n      <th>Volume</th>\n      <th>direction</th>\n    </tr>\n  </thead>\n  <tbody>\n    <tr>\n      <th>0</th>\n      <td>[6.2041, 6.1208, 6.1707, 6.1875, 6.2543]</td>\n      <td>[655676, 592806, 359274, 386220, 529933]</td>\n      <td>[0.0, 1.0, 1.0, 1.0, 1.0]</td>\n    </tr>\n    <tr>\n      <th>1</th>\n      <td>[6.2708, 6.2708, 6.1875, 6.1291, 6.1291]</td>\n      <td>[305383, 305383, 502984, 449093, 485021]</td>\n      <td>[1.0, 0.0, 0.0, 1.0, 1.0]</td>\n    </tr>\n    <tr>\n      <th>2</th>\n      <td>[6.1374, 6.1208, 6.0624, 6.0956, 6.0287]</td>\n      <td>[332329, 449093, 494001, 386220, 296401]</td>\n      <td>[0.0, 0.0, 1.0, 0.0, 0.0]</td>\n    </tr>\n    <tr>\n      <th>3</th>\n      <td>[5.9951, 5.8952, 5.8784, 6.0703, 6.1457]</td>\n      <td>[700585, 889207, 916151, 772443, 610767]</td>\n      <td>[0.0, 0.0, 1.0, 1.0, 1.0]</td>\n    </tr>\n    <tr>\n      <th>4</th>\n      <td>[6.1875, 6.104, 6.1208, 6.1208, 6.1208]</td>\n      <td>[377238, 314365, 305383, 26945, 520952]</td>\n      <td>[0.0, 1.0, 1.0, 1.0, 1.0]</td>\n    </tr>\n    <tr>\n      <th>...</th>\n      <td>...</td>\n      <td>...</td>\n      <td>...</td>\n    </tr>\n    <tr>\n      <th>2403</th>\n      <td>[143.91, 145.24, 145.55, 145.23, 145.19]</td>\n      <td>[3002790, 2325614, 2265636, 2713337, 2647099]</td>\n      <td>[1.0, 1.0, 0.0, 1.0, 0.0]</td>\n    </tr>\n    <tr>\n      <th>2404</th>\n      <td>[145.05, 146.25, 146.93, 146.1, 146.02]</td>\n      <td>[2709319, 4069894, 3738253, 3337684, 2530990]</td>\n      <td>[1.0, 1.0, 0.0, 0.0, 0.0]</td>\n    </tr>\n    <tr>\n      <th>2405</th>\n      <td>[145.76, 145.18, 155.57, 158.22, 159.48]</td>\n      <td>[3072486, 6266166, 30778036, 10009756, 7945358]</td>\n      <td>[0.0, 0.0, 1.0, 1.0, 1.0]</td>\n    </tr>\n    <tr>\n      <th>2406</th>\n      <td>[160.45, 158.12, 154.47, 152.78, 153.01]</td>\n      <td>[5835986, 8257417, 6987016, 4341600, 4944066]</td>\n      <td>[0.0, 0.0, 0.0, 0.0, 0.0]</td>\n    </tr>\n    <tr>\n      <th>2407</th>\n      <td>[152.24, 152.8, 152.57, 152.65, 151.9]</td>\n      <td>[4252385, 4370601, 3270654, 3431080, 4475615]</td>\n      <td>[1.0, 0.0, 0.0, 0.0, 0.0]</td>\n    </tr>\n  </tbody>\n</table>\n<p>2408 rows × 3 columns</p>\n</div>"
     },
     "execution_count": 29,
     "metadata": {},
     "output_type": "execute_result"
    }
   ]
  },
  {
   "metadata": {},
   "cell_type": "markdown",
   "source": "# part 2"
  },
  {
   "metadata": {
    "trusted": true
   },
   "cell_type": "code",
   "source": "df_ibm = pd.read_csv(os.path.join('/kaggle/input/price-volume-data-for-all-us-stocks-etfs/Stocks', 'ibm.us.txt'), parse_dates=['Date'])\ndf_crm = pd.read_csv(os.path.join('/kaggle/input/price-volume-data-for-all-us-stocks-etfs/Stocks', 'crm.us.txt'), parse_dates=['Date'])\ndf_sap = pd.read_csv(os.path.join('/kaggle/input/price-volume-data-for-all-us-stocks-etfs/Stocks', 'sap.us.txt'), parse_dates=['Date'])\ndf_orcl = pd.read_csv(os.path.join('/kaggle/input/price-volume-data-for-all-us-stocks-etfs/Stocks', 'orcl.us.txt'), parse_dates=['Date'])\ndf_msft = pd.read_csv(os.path.join('/kaggle/input/price-volume-data-for-all-us-stocks-etfs/Stocks', 'msft.us.txt'), parse_dates=['Date'])\ndf_acn = pd.read_csv(os.path.join('/kaggle/input/price-volume-data-for-all-us-stocks-etfs/Stocks', 'acn.us.txt'), parse_dates=['Date'])",
   "execution_count": 30,
   "outputs": [
    {
     "ename": "FileNotFoundError",
     "evalue": "[Errno 2] File b'/kaggle/input/price-volume-data-for-all-us-stocks-etfs/Stocks\\\\ibm.us.txt' does not exist: b'/kaggle/input/price-volume-data-for-all-us-stocks-etfs/Stocks\\\\ibm.us.txt'",
     "output_type": "error",
     "traceback": [
      "\u001B[1;31m---------------------------------------------------------------------------\u001B[0m",
      "\u001B[1;31mFileNotFoundError\u001B[0m                         Traceback (most recent call last)",
      "\u001B[1;32m<ipython-input-30-7caefd9d7ee1>\u001B[0m in \u001B[0;36m<module>\u001B[1;34m\u001B[0m\n\u001B[1;32m----> 1\u001B[1;33m \u001B[0mdf_ibm\u001B[0m \u001B[1;33m=\u001B[0m \u001B[0mpd\u001B[0m\u001B[1;33m.\u001B[0m\u001B[0mread_csv\u001B[0m\u001B[1;33m(\u001B[0m\u001B[0mos\u001B[0m\u001B[1;33m.\u001B[0m\u001B[0mpath\u001B[0m\u001B[1;33m.\u001B[0m\u001B[0mjoin\u001B[0m\u001B[1;33m(\u001B[0m\u001B[1;34m'/kaggle/input/price-volume-data-for-all-us-stocks-etfs/Stocks'\u001B[0m\u001B[1;33m,\u001B[0m \u001B[1;34m'ibm.us.txt'\u001B[0m\u001B[1;33m)\u001B[0m\u001B[1;33m,\u001B[0m \u001B[0mparse_dates\u001B[0m\u001B[1;33m=\u001B[0m\u001B[1;33m[\u001B[0m\u001B[1;34m'Date'\u001B[0m\u001B[1;33m]\u001B[0m\u001B[1;33m)\u001B[0m\u001B[1;33m\u001B[0m\u001B[1;33m\u001B[0m\u001B[0m\n\u001B[0m\u001B[0;32m      2\u001B[0m \u001B[0mdf_crm\u001B[0m \u001B[1;33m=\u001B[0m \u001B[0mpd\u001B[0m\u001B[1;33m.\u001B[0m\u001B[0mread_csv\u001B[0m\u001B[1;33m(\u001B[0m\u001B[0mos\u001B[0m\u001B[1;33m.\u001B[0m\u001B[0mpath\u001B[0m\u001B[1;33m.\u001B[0m\u001B[0mjoin\u001B[0m\u001B[1;33m(\u001B[0m\u001B[1;34m'/kaggle/input/price-volume-data-for-all-us-stocks-etfs/Stocks'\u001B[0m\u001B[1;33m,\u001B[0m \u001B[1;34m'crm.us.txt'\u001B[0m\u001B[1;33m)\u001B[0m\u001B[1;33m,\u001B[0m \u001B[0mparse_dates\u001B[0m\u001B[1;33m=\u001B[0m\u001B[1;33m[\u001B[0m\u001B[1;34m'Date'\u001B[0m\u001B[1;33m]\u001B[0m\u001B[1;33m)\u001B[0m\u001B[1;33m\u001B[0m\u001B[1;33m\u001B[0m\u001B[0m\n\u001B[0;32m      3\u001B[0m \u001B[0mdf_sap\u001B[0m \u001B[1;33m=\u001B[0m \u001B[0mpd\u001B[0m\u001B[1;33m.\u001B[0m\u001B[0mread_csv\u001B[0m\u001B[1;33m(\u001B[0m\u001B[0mos\u001B[0m\u001B[1;33m.\u001B[0m\u001B[0mpath\u001B[0m\u001B[1;33m.\u001B[0m\u001B[0mjoin\u001B[0m\u001B[1;33m(\u001B[0m\u001B[1;34m'/kaggle/input/price-volume-data-for-all-us-stocks-etfs/Stocks'\u001B[0m\u001B[1;33m,\u001B[0m \u001B[1;34m'sap.us.txt'\u001B[0m\u001B[1;33m)\u001B[0m\u001B[1;33m,\u001B[0m \u001B[0mparse_dates\u001B[0m\u001B[1;33m=\u001B[0m\u001B[1;33m[\u001B[0m\u001B[1;34m'Date'\u001B[0m\u001B[1;33m]\u001B[0m\u001B[1;33m)\u001B[0m\u001B[1;33m\u001B[0m\u001B[1;33m\u001B[0m\u001B[0m\n\u001B[0;32m      4\u001B[0m \u001B[0mdf_orcl\u001B[0m \u001B[1;33m=\u001B[0m \u001B[0mpd\u001B[0m\u001B[1;33m.\u001B[0m\u001B[0mread_csv\u001B[0m\u001B[1;33m(\u001B[0m\u001B[0mos\u001B[0m\u001B[1;33m.\u001B[0m\u001B[0mpath\u001B[0m\u001B[1;33m.\u001B[0m\u001B[0mjoin\u001B[0m\u001B[1;33m(\u001B[0m\u001B[1;34m'/kaggle/input/price-volume-data-for-all-us-stocks-etfs/Stocks'\u001B[0m\u001B[1;33m,\u001B[0m \u001B[1;34m'orcl.us.txt'\u001B[0m\u001B[1;33m)\u001B[0m\u001B[1;33m,\u001B[0m \u001B[0mparse_dates\u001B[0m\u001B[1;33m=\u001B[0m\u001B[1;33m[\u001B[0m\u001B[1;34m'Date'\u001B[0m\u001B[1;33m]\u001B[0m\u001B[1;33m)\u001B[0m\u001B[1;33m\u001B[0m\u001B[1;33m\u001B[0m\u001B[0m\n\u001B[0;32m      5\u001B[0m \u001B[0mdf_msft\u001B[0m \u001B[1;33m=\u001B[0m \u001B[0mpd\u001B[0m\u001B[1;33m.\u001B[0m\u001B[0mread_csv\u001B[0m\u001B[1;33m(\u001B[0m\u001B[0mos\u001B[0m\u001B[1;33m.\u001B[0m\u001B[0mpath\u001B[0m\u001B[1;33m.\u001B[0m\u001B[0mjoin\u001B[0m\u001B[1;33m(\u001B[0m\u001B[1;34m'/kaggle/input/price-volume-data-for-all-us-stocks-etfs/Stocks'\u001B[0m\u001B[1;33m,\u001B[0m \u001B[1;34m'msft.us.txt'\u001B[0m\u001B[1;33m)\u001B[0m\u001B[1;33m,\u001B[0m \u001B[0mparse_dates\u001B[0m\u001B[1;33m=\u001B[0m\u001B[1;33m[\u001B[0m\u001B[1;34m'Date'\u001B[0m\u001B[1;33m]\u001B[0m\u001B[1;33m)\u001B[0m\u001B[1;33m\u001B[0m\u001B[1;33m\u001B[0m\u001B[0m\n",
      "\u001B[1;32m~\\Miniconda3\\envs\\ML\\lib\\site-packages\\pandas\\io\\parsers.py\u001B[0m in \u001B[0;36mparser_f\u001B[1;34m(filepath_or_buffer, sep, delimiter, header, names, index_col, usecols, squeeze, prefix, mangle_dupe_cols, dtype, engine, converters, true_values, false_values, skipinitialspace, skiprows, skipfooter, nrows, na_values, keep_default_na, na_filter, verbose, skip_blank_lines, parse_dates, infer_datetime_format, keep_date_col, date_parser, dayfirst, cache_dates, iterator, chunksize, compression, thousands, decimal, lineterminator, quotechar, quoting, doublequote, escapechar, comment, encoding, dialect, error_bad_lines, warn_bad_lines, delim_whitespace, low_memory, memory_map, float_precision)\u001B[0m\n\u001B[0;32m    683\u001B[0m         )\n\u001B[0;32m    684\u001B[0m \u001B[1;33m\u001B[0m\u001B[0m\n\u001B[1;32m--> 685\u001B[1;33m         \u001B[1;32mreturn\u001B[0m \u001B[0m_read\u001B[0m\u001B[1;33m(\u001B[0m\u001B[0mfilepath_or_buffer\u001B[0m\u001B[1;33m,\u001B[0m \u001B[0mkwds\u001B[0m\u001B[1;33m)\u001B[0m\u001B[1;33m\u001B[0m\u001B[1;33m\u001B[0m\u001B[0m\n\u001B[0m\u001B[0;32m    686\u001B[0m \u001B[1;33m\u001B[0m\u001B[0m\n\u001B[0;32m    687\u001B[0m     \u001B[0mparser_f\u001B[0m\u001B[1;33m.\u001B[0m\u001B[0m__name__\u001B[0m \u001B[1;33m=\u001B[0m \u001B[0mname\u001B[0m\u001B[1;33m\u001B[0m\u001B[1;33m\u001B[0m\u001B[0m\n",
      "\u001B[1;32m~\\Miniconda3\\envs\\ML\\lib\\site-packages\\pandas\\io\\parsers.py\u001B[0m in \u001B[0;36m_read\u001B[1;34m(filepath_or_buffer, kwds)\u001B[0m\n\u001B[0;32m    455\u001B[0m \u001B[1;33m\u001B[0m\u001B[0m\n\u001B[0;32m    456\u001B[0m     \u001B[1;31m# Create the parser.\u001B[0m\u001B[1;33m\u001B[0m\u001B[1;33m\u001B[0m\u001B[1;33m\u001B[0m\u001B[0m\n\u001B[1;32m--> 457\u001B[1;33m     \u001B[0mparser\u001B[0m \u001B[1;33m=\u001B[0m \u001B[0mTextFileReader\u001B[0m\u001B[1;33m(\u001B[0m\u001B[0mfp_or_buf\u001B[0m\u001B[1;33m,\u001B[0m \u001B[1;33m**\u001B[0m\u001B[0mkwds\u001B[0m\u001B[1;33m)\u001B[0m\u001B[1;33m\u001B[0m\u001B[1;33m\u001B[0m\u001B[0m\n\u001B[0m\u001B[0;32m    458\u001B[0m \u001B[1;33m\u001B[0m\u001B[0m\n\u001B[0;32m    459\u001B[0m     \u001B[1;32mif\u001B[0m \u001B[0mchunksize\u001B[0m \u001B[1;32mor\u001B[0m \u001B[0miterator\u001B[0m\u001B[1;33m:\u001B[0m\u001B[1;33m\u001B[0m\u001B[1;33m\u001B[0m\u001B[0m\n",
      "\u001B[1;32m~\\Miniconda3\\envs\\ML\\lib\\site-packages\\pandas\\io\\parsers.py\u001B[0m in \u001B[0;36m__init__\u001B[1;34m(self, f, engine, **kwds)\u001B[0m\n\u001B[0;32m    893\u001B[0m             \u001B[0mself\u001B[0m\u001B[1;33m.\u001B[0m\u001B[0moptions\u001B[0m\u001B[1;33m[\u001B[0m\u001B[1;34m\"has_index_names\"\u001B[0m\u001B[1;33m]\u001B[0m \u001B[1;33m=\u001B[0m \u001B[0mkwds\u001B[0m\u001B[1;33m[\u001B[0m\u001B[1;34m\"has_index_names\"\u001B[0m\u001B[1;33m]\u001B[0m\u001B[1;33m\u001B[0m\u001B[1;33m\u001B[0m\u001B[0m\n\u001B[0;32m    894\u001B[0m \u001B[1;33m\u001B[0m\u001B[0m\n\u001B[1;32m--> 895\u001B[1;33m         \u001B[0mself\u001B[0m\u001B[1;33m.\u001B[0m\u001B[0m_make_engine\u001B[0m\u001B[1;33m(\u001B[0m\u001B[0mself\u001B[0m\u001B[1;33m.\u001B[0m\u001B[0mengine\u001B[0m\u001B[1;33m)\u001B[0m\u001B[1;33m\u001B[0m\u001B[1;33m\u001B[0m\u001B[0m\n\u001B[0m\u001B[0;32m    896\u001B[0m \u001B[1;33m\u001B[0m\u001B[0m\n\u001B[0;32m    897\u001B[0m     \u001B[1;32mdef\u001B[0m \u001B[0mclose\u001B[0m\u001B[1;33m(\u001B[0m\u001B[0mself\u001B[0m\u001B[1;33m)\u001B[0m\u001B[1;33m:\u001B[0m\u001B[1;33m\u001B[0m\u001B[1;33m\u001B[0m\u001B[0m\n",
      "\u001B[1;32m~\\Miniconda3\\envs\\ML\\lib\\site-packages\\pandas\\io\\parsers.py\u001B[0m in \u001B[0;36m_make_engine\u001B[1;34m(self, engine)\u001B[0m\n\u001B[0;32m   1133\u001B[0m     \u001B[1;32mdef\u001B[0m \u001B[0m_make_engine\u001B[0m\u001B[1;33m(\u001B[0m\u001B[0mself\u001B[0m\u001B[1;33m,\u001B[0m \u001B[0mengine\u001B[0m\u001B[1;33m=\u001B[0m\u001B[1;34m\"c\"\u001B[0m\u001B[1;33m)\u001B[0m\u001B[1;33m:\u001B[0m\u001B[1;33m\u001B[0m\u001B[1;33m\u001B[0m\u001B[0m\n\u001B[0;32m   1134\u001B[0m         \u001B[1;32mif\u001B[0m \u001B[0mengine\u001B[0m \u001B[1;33m==\u001B[0m \u001B[1;34m\"c\"\u001B[0m\u001B[1;33m:\u001B[0m\u001B[1;33m\u001B[0m\u001B[1;33m\u001B[0m\u001B[0m\n\u001B[1;32m-> 1135\u001B[1;33m             \u001B[0mself\u001B[0m\u001B[1;33m.\u001B[0m\u001B[0m_engine\u001B[0m \u001B[1;33m=\u001B[0m \u001B[0mCParserWrapper\u001B[0m\u001B[1;33m(\u001B[0m\u001B[0mself\u001B[0m\u001B[1;33m.\u001B[0m\u001B[0mf\u001B[0m\u001B[1;33m,\u001B[0m \u001B[1;33m**\u001B[0m\u001B[0mself\u001B[0m\u001B[1;33m.\u001B[0m\u001B[0moptions\u001B[0m\u001B[1;33m)\u001B[0m\u001B[1;33m\u001B[0m\u001B[1;33m\u001B[0m\u001B[0m\n\u001B[0m\u001B[0;32m   1136\u001B[0m         \u001B[1;32melse\u001B[0m\u001B[1;33m:\u001B[0m\u001B[1;33m\u001B[0m\u001B[1;33m\u001B[0m\u001B[0m\n\u001B[0;32m   1137\u001B[0m             \u001B[1;32mif\u001B[0m \u001B[0mengine\u001B[0m \u001B[1;33m==\u001B[0m \u001B[1;34m\"python\"\u001B[0m\u001B[1;33m:\u001B[0m\u001B[1;33m\u001B[0m\u001B[1;33m\u001B[0m\u001B[0m\n",
      "\u001B[1;32m~\\Miniconda3\\envs\\ML\\lib\\site-packages\\pandas\\io\\parsers.py\u001B[0m in \u001B[0;36m__init__\u001B[1;34m(self, src, **kwds)\u001B[0m\n\u001B[0;32m   1915\u001B[0m         \u001B[0mkwds\u001B[0m\u001B[1;33m[\u001B[0m\u001B[1;34m\"usecols\"\u001B[0m\u001B[1;33m]\u001B[0m \u001B[1;33m=\u001B[0m \u001B[0mself\u001B[0m\u001B[1;33m.\u001B[0m\u001B[0musecols\u001B[0m\u001B[1;33m\u001B[0m\u001B[1;33m\u001B[0m\u001B[0m\n\u001B[0;32m   1916\u001B[0m \u001B[1;33m\u001B[0m\u001B[0m\n\u001B[1;32m-> 1917\u001B[1;33m         \u001B[0mself\u001B[0m\u001B[1;33m.\u001B[0m\u001B[0m_reader\u001B[0m \u001B[1;33m=\u001B[0m \u001B[0mparsers\u001B[0m\u001B[1;33m.\u001B[0m\u001B[0mTextReader\u001B[0m\u001B[1;33m(\u001B[0m\u001B[0msrc\u001B[0m\u001B[1;33m,\u001B[0m \u001B[1;33m**\u001B[0m\u001B[0mkwds\u001B[0m\u001B[1;33m)\u001B[0m\u001B[1;33m\u001B[0m\u001B[1;33m\u001B[0m\u001B[0m\n\u001B[0m\u001B[0;32m   1918\u001B[0m         \u001B[0mself\u001B[0m\u001B[1;33m.\u001B[0m\u001B[0munnamed_cols\u001B[0m \u001B[1;33m=\u001B[0m \u001B[0mself\u001B[0m\u001B[1;33m.\u001B[0m\u001B[0m_reader\u001B[0m\u001B[1;33m.\u001B[0m\u001B[0munnamed_cols\u001B[0m\u001B[1;33m\u001B[0m\u001B[1;33m\u001B[0m\u001B[0m\n\u001B[0;32m   1919\u001B[0m \u001B[1;33m\u001B[0m\u001B[0m\n",
      "\u001B[1;32mpandas\\_libs\\parsers.pyx\u001B[0m in \u001B[0;36mpandas._libs.parsers.TextReader.__cinit__\u001B[1;34m()\u001B[0m\n",
      "\u001B[1;32mpandas\\_libs\\parsers.pyx\u001B[0m in \u001B[0;36mpandas._libs.parsers.TextReader._setup_parser_source\u001B[1;34m()\u001B[0m\n",
      "\u001B[1;31mFileNotFoundError\u001B[0m: [Errno 2] File b'/kaggle/input/price-volume-data-for-all-us-stocks-etfs/Stocks\\\\ibm.us.txt' does not exist: b'/kaggle/input/price-volume-data-for-all-us-stocks-etfs/Stocks\\\\ibm.us.txt'"
     ]
    }
   ]
  },
  {
   "metadata": {
    "trusted": true
   },
   "cell_type": "code",
   "source": "stocks_df = [df_ibm, df_crm, df_sap, df_orcl, df_msft, df_acn]",
   "execution_count": null,
   "outputs": []
  },
  {
   "metadata": {
    "trusted": true
   },
   "cell_type": "code",
   "source": "for df in stocks_df:\n    pre_process(df)\n    # compute Change Colum\n    df['Change'] = df.Close - df.Open\n    # remove High, low columns\n    df.drop([\"Close\"],axis=1, inplace=True)",
   "execution_count": null,
   "outputs": []
  },
  {
   "metadata": {
    "trusted": true
   },
   "cell_type": "code",
   "source": "for index, df in enumerate(stocks_df):\n    if index == 0:\n        minimum = min(df.Date)\n        maximum = max(df.Date)\n    if index != 0 and min(df.Date) > minimum:\n        minimum = min(df.Date)\n    if index != 0 and max(df.Date) < maximum:\n        maximum = max(df.Date)",
   "execution_count": null,
   "outputs": []
  },
  {
   "metadata": {
    "trusted": true
   },
   "cell_type": "code",
   "source": "df_ibm['Date'].intersection(df_crm['Date'])",
   "execution_count": null,
   "outputs": []
  },
  {
   "metadata": {
    "trusted": true
   },
   "cell_type": "code",
   "source": "set(df_ibm)",
   "execution_count": null,
   "outputs": []
  },
  {
   "metadata": {
    "trusted": true
   },
   "cell_type": "code",
   "source": "pd.Series(list(set(df_ibm) & set(df_crm)))",
   "execution_count": null,
   "outputs": []
  },
  {
   "metadata": {
    "trusted": true
   },
   "cell_type": "code",
   "source": "",
   "execution_count": null,
   "outputs": []
  }
 ],
 "metadata": {
  "kernelspec": {
   "name": "python3",
   "display_name": "Python 3",
   "language": "python"
  },
  "language_info": {
   "name": "python",
   "version": "3.7.6",
   "mimetype": "text/x-python",
   "codemirror_mode": {
    "name": "ipython",
    "version": 3
   },
   "pygments_lexer": "ipython3",
   "nbconvert_exporter": "python",
   "file_extension": ".py"
  }
 },
 "nbformat": 4,
 "nbformat_minor": 4
}